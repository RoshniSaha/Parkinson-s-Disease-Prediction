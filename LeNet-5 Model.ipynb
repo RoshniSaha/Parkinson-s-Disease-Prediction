{
 "cells": [
  {
   "cell_type": "code",
   "execution_count": 65,
   "metadata": {},
   "outputs": [],
   "source": [
    "import os\n",
    "import glob\n",
    "import numpy as np\n",
    "import re"
   ]
  },
  {
   "cell_type": "code",
   "execution_count": 66,
   "metadata": {},
   "outputs": [],
   "source": [
    "import nibabel as nib\n",
    "import dicom\n",
    "import pylab\n",
    "import matplotlib.cm as cm"
   ]
  },
  {
   "cell_type": "code",
   "execution_count": 67,
   "metadata": {},
   "outputs": [],
   "source": [
    "from PIL import Image\n",
    "import numpy as np # linear algebra\n",
    "from keras.preprocessing import image\n",
    "import os\n",
    "import numpy as np\n",
    "from keras.preprocessing import image\n",
    "from keras.models import Model\n",
    "from keras.layers import Input, Dense, Flatten, Dropout\n",
    "from keras.optimizers import Adadelta\n",
    "from keras.losses import binary_crossentropy\n",
    "from keras.layers.convolutional import Conv2D\n",
    "import matplotlib.pyplot as plt\n",
    "from keras.layers.pooling import MaxPooling2D"
   ]
  },
  {
   "cell_type": "code",
   "execution_count": 68,
   "metadata": {},
   "outputs": [],
   "source": [
    "import cv2"
   ]
  },
  {
   "cell_type": "code",
   "execution_count": 69,
   "metadata": {},
   "outputs": [
    {
     "name": "stdout",
     "output_type": "stream",
     "text": [
      "Tensor Flow Version: 1.12.0\n",
      "Keras Version: 2.2.4\n",
      "\n",
      "Python 3.6.8 |Anaconda, Inc.| (default, Feb 21 2019, 18:30:04) [MSC v.1916 64 bit (AMD64)]\n",
      "Pandas 0.24.1\n",
      "Scikit-Learn 0.20.3\n"
     ]
    }
   ],
   "source": [
    "import sys\n",
    "\n",
    "import keras\n",
    "import pandas as pd\n",
    "import sklearn as sk\n",
    "import tensorflow as tf\n",
    "\n",
    "print(f\"Tensor Flow Version: {tf.__version__}\")\n",
    "print(f\"Keras Version: {keras.__version__}\")\n",
    "print()\n",
    "print(f\"Python {sys.version}\")\n",
    "print(f\"Pandas {pd.__version__}\")\n",
    "print(f\"Scikit-Learn {sk.__version__}\")"
   ]
  },
  {
   "cell_type": "code",
   "execution_count": 70,
   "metadata": {},
   "outputs": [
    {
     "name": "stdout",
     "output_type": "stream",
     "text": [
      "['Just Control', 'Just PD']\n"
     ]
    }
   ],
   "source": [
    "print(os.listdir(\"C:/Users/roshn/Desktop/Just\"))"
   ]
  },
  {
   "cell_type": "code",
   "execution_count": 71,
   "metadata": {},
   "outputs": [],
   "source": [
    "data=[]\n",
    "labels=[]\n",
    "PD_path =os.listdir(\"C:/Users/roshn/Desktop/Just/Just PD/\")\n",
    "for pars in PD_path:\n",
    "    try:\n",
    "        image=cv2.imread(\"C:/Users/roshn/Desktop/Just/Just PD/\"+ pars)\n",
    "        image_from_array = Image.fromarray(image, 'RGB')\n",
    "        size_image = image_from_array.resize((64, 64))\n",
    "        #image_from_array = image_from_array.convert('L')\n",
    "        data.append(np.array(size_image))\n",
    "        labels.append(0)\n",
    "    except Exception as e:\n",
    "        print(e)"
   ]
  },
  {
   "cell_type": "code",
   "execution_count": 73,
   "metadata": {},
   "outputs": [],
   "source": [
    "control_path=os.listdir(\"C:/Users/roshn/Desktop/Just/Just Control/\")\n",
    "for unef in control_path:\n",
    "    try:\n",
    "        image=cv2.imread(\"C:/Users/roshn/Desktop/Just/Just Control/\"+ unef)\n",
    "        image_from_array = Image.fromarray(image, 'RGB')\n",
    "        size_image = image_from_array.resize((64, 64))\n",
    "        data.append(np.array(size_image))\n",
    "        labels.append(1)\n",
    "    except Exception as e:\n",
    "        print(e)"
   ]
  },
  {
   "cell_type": "code",
   "execution_count": 74,
   "metadata": {},
   "outputs": [
    {
     "name": "stdout",
     "output_type": "stream",
     "text": [
      "Lenght of Data : 10548\n",
      "Lenght of Data : 10548\n"
     ]
    }
   ],
   "source": [
    "print('Lenght of Data : ' + str(len(data)))\n",
    "print('Lenght of Data : ' + str(len(labels)))"
   ]
  },
  {
   "cell_type": "code",
   "execution_count": 75,
   "metadata": {},
   "outputs": [],
   "source": [
    "numpy_data = np.array(data)\n",
    "numpy_labels = np.array(labels)"
   ]
  },
  {
   "cell_type": "code",
   "execution_count": 76,
   "metadata": {},
   "outputs": [
    {
     "name": "stdout",
     "output_type": "stream",
     "text": [
      "[    0     1     2 ... 10545 10546 10547]\n",
      "[6457 5749 8947 ... 2290 6586 3898]\n",
      "[[[[ 0  0  0]\n",
      "   [ 0  0  0]\n",
      "   [ 0  0  0]\n",
      "   ...\n",
      "   [ 0  0  0]\n",
      "   [ 0  0  0]\n",
      "   [ 0  0  0]]\n",
      "\n",
      "  [[ 0  0  0]\n",
      "   [ 0  0  0]\n",
      "   [ 0  0  0]\n",
      "   ...\n",
      "   [ 0  0  0]\n",
      "   [ 0  0  0]\n",
      "   [ 0  0  0]]\n",
      "\n",
      "  [[ 0  0  0]\n",
      "   [ 0  0  0]\n",
      "   [ 0  0  0]\n",
      "   ...\n",
      "   [ 0  0  0]\n",
      "   [ 0  0  0]\n",
      "   [ 0  0  0]]\n",
      "\n",
      "  ...\n",
      "\n",
      "  [[ 0  0  0]\n",
      "   [ 0  0  0]\n",
      "   [ 0  0  0]\n",
      "   ...\n",
      "   [ 0  0  0]\n",
      "   [ 0  0  0]\n",
      "   [ 0  0  0]]\n",
      "\n",
      "  [[ 0  0  0]\n",
      "   [ 0  0  0]\n",
      "   [ 0  0  0]\n",
      "   ...\n",
      "   [ 0  0  0]\n",
      "   [ 0  0  0]\n",
      "   [ 0  0  0]]\n",
      "\n",
      "  [[ 0  0  0]\n",
      "   [ 0  0  0]\n",
      "   [ 0  0  0]\n",
      "   ...\n",
      "   [ 0  0  0]\n",
      "   [ 0  0  0]\n",
      "   [ 0  0  0]]]\n",
      "\n",
      "\n",
      " [[[ 6  6  6]\n",
      "   [ 9  9  9]\n",
      "   [13 13 13]\n",
      "   ...\n",
      "   [ 1  1  1]\n",
      "   [ 3  3  3]\n",
      "   [ 4  4  4]]\n",
      "\n",
      "  [[ 1  1  1]\n",
      "   [15 15 15]\n",
      "   [ 0  0  0]\n",
      "   ...\n",
      "   [ 7  7  7]\n",
      "   [ 8  8  8]\n",
      "   [ 4  4  4]]\n",
      "\n",
      "  [[10 10 10]\n",
      "   [ 8  8  8]\n",
      "   [ 9  9  9]\n",
      "   ...\n",
      "   [ 3  3  3]\n",
      "   [ 9  9  9]\n",
      "   [ 4  4  4]]\n",
      "\n",
      "  ...\n",
      "\n",
      "  [[ 6  6  6]\n",
      "   [ 3  3  3]\n",
      "   [ 0  0  0]\n",
      "   ...\n",
      "   [ 0  0  0]\n",
      "   [13 13 13]\n",
      "   [ 3  3  3]]\n",
      "\n",
      "  [[16 16 16]\n",
      "   [10 10 10]\n",
      "   [ 3  3  3]\n",
      "   ...\n",
      "   [11 11 11]\n",
      "   [ 8  8  8]\n",
      "   [12 12 12]]\n",
      "\n",
      "  [[ 5  5  5]\n",
      "   [ 8  8  8]\n",
      "   [14 14 14]\n",
      "   ...\n",
      "   [13 13 13]\n",
      "   [11 11 11]\n",
      "   [ 0  0  0]]]\n",
      "\n",
      "\n",
      " [[[ 0  0  0]\n",
      "   [ 0  0  0]\n",
      "   [ 0  0  0]\n",
      "   ...\n",
      "   [ 0  0  0]\n",
      "   [ 0  0  0]\n",
      "   [ 0  0  0]]\n",
      "\n",
      "  [[ 0  0  0]\n",
      "   [ 0  0  0]\n",
      "   [ 0  0  0]\n",
      "   ...\n",
      "   [ 0  0  0]\n",
      "   [ 0  0  0]\n",
      "   [ 0  0  0]]\n",
      "\n",
      "  [[ 0  0  0]\n",
      "   [ 0  0  0]\n",
      "   [ 0  0  0]\n",
      "   ...\n",
      "   [ 0  0  0]\n",
      "   [ 0  0  0]\n",
      "   [ 0  0  0]]\n",
      "\n",
      "  ...\n",
      "\n",
      "  [[ 0  0  0]\n",
      "   [ 0  0  0]\n",
      "   [ 0  0  0]\n",
      "   ...\n",
      "   [ 1  1  1]\n",
      "   [ 0  0  0]\n",
      "   [ 0  0  0]]\n",
      "\n",
      "  [[ 0  0  0]\n",
      "   [ 0  0  0]\n",
      "   [ 0  0  0]\n",
      "   ...\n",
      "   [ 0  0  0]\n",
      "   [ 0  0  0]\n",
      "   [ 0  0  0]]\n",
      "\n",
      "  [[ 0  0  0]\n",
      "   [ 0  0  0]\n",
      "   [ 0  0  0]\n",
      "   ...\n",
      "   [ 0  0  0]\n",
      "   [ 0  0  0]\n",
      "   [ 0  0  0]]]\n",
      "\n",
      "\n",
      " ...\n",
      "\n",
      "\n",
      " [[[ 0  0  0]\n",
      "   [ 0  0  0]\n",
      "   [ 0  0  0]\n",
      "   ...\n",
      "   [ 0  0  0]\n",
      "   [ 0  0  0]\n",
      "   [ 0  0  0]]\n",
      "\n",
      "  [[ 0  0  0]\n",
      "   [ 0  0  0]\n",
      "   [ 0  0  0]\n",
      "   ...\n",
      "   [ 0  0  0]\n",
      "   [ 0  0  0]\n",
      "   [ 0  0  0]]\n",
      "\n",
      "  [[ 0  0  0]\n",
      "   [ 0  0  0]\n",
      "   [ 0  0  0]\n",
      "   ...\n",
      "   [ 0  0  0]\n",
      "   [ 0  0  0]\n",
      "   [ 0  0  0]]\n",
      "\n",
      "  ...\n",
      "\n",
      "  [[ 7  7  7]\n",
      "   [ 1  1  1]\n",
      "   [ 8  8  8]\n",
      "   ...\n",
      "   [ 0  0  0]\n",
      "   [ 3  3  3]\n",
      "   [ 0  0  0]]\n",
      "\n",
      "  [[ 0  0  0]\n",
      "   [ 4  4  4]\n",
      "   [ 4  4  4]\n",
      "   ...\n",
      "   [14 14 14]\n",
      "   [ 2  2  2]\n",
      "   [ 0  0  0]]\n",
      "\n",
      "  [[ 3  3  3]\n",
      "   [11 11 11]\n",
      "   [ 5  5  5]\n",
      "   ...\n",
      "   [ 0  0  0]\n",
      "   [ 7  7  7]\n",
      "   [ 3  3  3]]]\n",
      "\n",
      "\n",
      " [[[ 0  0  0]\n",
      "   [ 0  0  0]\n",
      "   [ 0  0  0]\n",
      "   ...\n",
      "   [ 0  0  0]\n",
      "   [ 0  0  0]\n",
      "   [ 0  0  0]]\n",
      "\n",
      "  [[ 0  0  0]\n",
      "   [ 0  0  0]\n",
      "   [ 0  0  0]\n",
      "   ...\n",
      "   [ 0  0  0]\n",
      "   [ 0  0  0]\n",
      "   [ 0  0  0]]\n",
      "\n",
      "  [[ 0  0  0]\n",
      "   [ 0  0  0]\n",
      "   [ 0  0  0]\n",
      "   ...\n",
      "   [ 0  0  0]\n",
      "   [ 0  0  0]\n",
      "   [ 0  0  0]]\n",
      "\n",
      "  ...\n",
      "\n",
      "  [[ 0  0  0]\n",
      "   [ 0  0  0]\n",
      "   [ 0  0  0]\n",
      "   ...\n",
      "   [ 0  0  0]\n",
      "   [ 0  0  0]\n",
      "   [ 0  0  0]]\n",
      "\n",
      "  [[ 0  0  0]\n",
      "   [ 0  0  0]\n",
      "   [ 0  0  0]\n",
      "   ...\n",
      "   [ 0  0  0]\n",
      "   [ 0  0  0]\n",
      "   [ 0  0  0]]\n",
      "\n",
      "  [[ 0  0  0]\n",
      "   [ 0  0  0]\n",
      "   [ 0  0  0]\n",
      "   ...\n",
      "   [ 0  0  0]\n",
      "   [ 0  0  0]\n",
      "   [ 0  0  0]]]\n",
      "\n",
      "\n",
      " [[[ 0  0  0]\n",
      "   [ 0  0  0]\n",
      "   [ 0  0  0]\n",
      "   ...\n",
      "   [ 0  0  0]\n",
      "   [ 0  0  0]\n",
      "   [ 0  0  0]]\n",
      "\n",
      "  [[ 0  0  0]\n",
      "   [ 0  0  0]\n",
      "   [ 0  0  0]\n",
      "   ...\n",
      "   [ 0  0  0]\n",
      "   [ 0  0  0]\n",
      "   [ 0  0  0]]\n",
      "\n",
      "  [[ 0  0  0]\n",
      "   [ 0  0  0]\n",
      "   [ 0  0  0]\n",
      "   ...\n",
      "   [ 0  0  0]\n",
      "   [ 0  0  0]\n",
      "   [ 0  0  0]]\n",
      "\n",
      "  ...\n",
      "\n",
      "  [[ 9  9  9]\n",
      "   [ 8  8  8]\n",
      "   [ 5  5  5]\n",
      "   ...\n",
      "   [12 12 12]\n",
      "   [ 7  7  7]\n",
      "   [ 9  9  9]]\n",
      "\n",
      "  [[ 0  0  0]\n",
      "   [ 9  9  9]\n",
      "   [ 2  2  2]\n",
      "   ...\n",
      "   [ 2  2  2]\n",
      "   [ 6  6  6]\n",
      "   [ 0  0  0]]\n",
      "\n",
      "  [[ 4  4  4]\n",
      "   [ 5  5  5]\n",
      "   [14 14 14]\n",
      "   ...\n",
      "   [ 4  4  4]\n",
      "   [ 3  3  3]\n",
      "   [ 1  1  1]]]]\n",
      "[1 0 1 ... 0 1 0]\n"
     ]
    }
   ],
   "source": [
    "s = np.arange(numpy_data.shape[0])\n",
    "print(s)\n",
    "np.random.shuffle(s)\n",
    "print(s)\n",
    "numpy_data = numpy_data[s]\n",
    "print(numpy_data)\n",
    "numpy_labels = numpy_labels[s]\n",
    "print(numpy_labels)\n",
    "data_length = len(numpy_data)"
   ]
  },
  {
   "cell_type": "code",
   "execution_count": 77,
   "metadata": {},
   "outputs": [
    {
     "name": "stdout",
     "output_type": "stream",
     "text": [
      "Lenght of Data : 10548\n",
      "Lenght of Data : 10548\n"
     ]
    }
   ],
   "source": [
    "print('Lenght of Data : ' + str(len(numpy_data)))\n",
    "print('Lenght of Data : ' + str(len(numpy_labels)))"
   ]
  },
  {
   "cell_type": "code",
   "execution_count": 78,
   "metadata": {},
   "outputs": [],
   "source": [
    "from keras.layers import Conv2D, MaxPooling2D, MaxPooling1D, GlobalAveragePooling2D, Dense, Dropout, Flatten, Input, LSTM, TimeDistributed\n",
    "from keras.layers.normalization import BatchNormalization\n",
    "from keras.layers.advanced_activations import LeakyReLU\n",
    "from sklearn.model_selection import train_test_split\n",
    "from keras.models import Sequential,Input,Model\n",
    "from keras.utils import np_utils"
   ]
  },
  {
   "cell_type": "code",
   "execution_count": 13,
   "metadata": {},
   "outputs": [],
   "source": [
    "#training_X = numpy_data[:round(data_length * 0.9)]\n",
    "#training_Y = numpy_labels[:round(data_length * 0.9)]\n",
    "#val_X = numpy_data[len(training_X) :round((len(training_X)) + (len(training_X) * 0.05)) ]\n",
    "#val_Y = numpy_labels[len(training_Y) :round((len(training_Y)) + (len(training_Y) * 0.05))]\n",
    "#test_X = numpy_data[round((len(training_X)) + (len(training_X) * 0.05)) : ]\n",
    "#test_Y = numpy_labels[round((len(training_Y)) + (len(training_Y) * 0.05)): ]"
   ]
  },
  {
   "cell_type": "code",
   "execution_count": 79,
   "metadata": {},
   "outputs": [],
   "source": [
    "training_X, test_X, training_Y, test_Y = train_test_split(numpy_data, numpy_labels, test_size = 0.1, random_state = 101)\n",
    "val_X = numpy_data[len(training_X) :round((len(training_X)) + (len(training_X) * 0.05)) ]\n",
    "val_Y = numpy_labels[len(training_Y) :round((len(training_Y)) + (len(training_Y) * 0.05))]"
   ]
  },
  {
   "cell_type": "code",
   "execution_count": 80,
   "metadata": {},
   "outputs": [],
   "source": [
    "#one hot encoding\n",
    "training_Y = np_utils.to_categorical(training_Y,  2)\n",
    "test_Y = np_utils.to_categorical(test_Y,  2)\n",
    "val_Y = np_utils.to_categorical(val_Y,  2)"
   ]
  },
  {
   "cell_type": "code",
   "execution_count": 81,
   "metadata": {},
   "outputs": [],
   "source": [
    "training_X = training_X.astype('float64') / 255\n",
    "val_X = val_X.astype('float64') / 255\n",
    "test_X = test_X.astype('float64') / 255"
   ]
  },
  {
   "cell_type": "code",
   "execution_count": 82,
   "metadata": {},
   "outputs": [
    {
     "name": "stdout",
     "output_type": "stream",
     "text": [
      "Shape of training image : (9493, 64, 64, 3)\n",
      "Shape of testing image : (1055, 64, 64, 3)\n",
      "Shape of training labels : (9493, 2)\n",
      "Shape of testing labels : (1055, 2)\n",
      "Shape of training labels : (475, 2)\n",
      "Shape of testing labels : (475, 64, 64, 3)\n"
     ]
    }
   ],
   "source": [
    "print(f'Shape of training image : {training_X.shape}')\n",
    "print(f'Shape of testing image : {test_X.shape}')\n",
    "print(f'Shape of training labels : {training_Y.shape}')\n",
    "print(f'Shape of testing labels : {test_Y.shape}')\n",
    "print(f'Shape of training labels : {val_Y.shape}')\n",
    "print(f'Shape of testing labels : {val_X.shape}')"
   ]
  },
  {
   "cell_type": "code",
   "execution_count": 83,
   "metadata": {},
   "outputs": [],
   "source": [
    "import keras\n",
    "from keras.layers import Dense, Conv2D\n",
    "from keras.layers import Flatten\n",
    "from keras.layers import MaxPooling2D, GlobalAveragePooling2D\n",
    "from keras.layers import Activation\n",
    "from keras.layers import BatchNormalization\n",
    "from keras.layers import Dropout\n",
    "from keras.models import Sequential\n",
    "from keras import backend as K\n",
    "\n",
    "from keras import optimizers"
   ]
  },
  {
   "cell_type": "code",
   "execution_count": 84,
   "metadata": {},
   "outputs": [
    {
     "name": "stdout",
     "output_type": "stream",
     "text": [
      "Lenght of Data : 9493\n",
      "Lenght of Data : 475\n",
      "Lenght of Data : 1055\n"
     ]
    }
   ],
   "source": [
    "print('Lenght of Data : ' + str(len(training_X)))\n",
    "print('Lenght of Data : ' + str(len(val_X)))\n",
    "print('Lenght of Data : ' + str(len(test_X)))"
   ]
  },
  {
   "cell_type": "code",
   "execution_count": 85,
   "metadata": {},
   "outputs": [
    {
     "name": "stdout",
     "output_type": "stream",
     "text": [
      "_________________________________________________________________\n",
      "Layer (type)                 Output Shape              Param #   \n",
      "=================================================================\n",
      "input_8 (InputLayer)         (None, 64, 64, 3)         0         \n",
      "_________________________________________________________________\n",
      "conv2d_18 (Conv2D)           (None, 62, 62, 32)        896       \n",
      "_________________________________________________________________\n",
      "max_pooling2d_17 (MaxPooling (None, 31, 31, 32)        0         \n",
      "_________________________________________________________________\n",
      "conv2d_19 (Conv2D)           (None, 29, 29, 64)        18496     \n",
      "_________________________________________________________________\n",
      "max_pooling2d_18 (MaxPooling (None, 14, 14, 64)        0         \n",
      "_________________________________________________________________\n",
      "dropout_7 (Dropout)          (None, 14, 14, 64)        0         \n",
      "_________________________________________________________________\n",
      "flatten_7 (Flatten)          (None, 12544)             0         \n",
      "_________________________________________________________________\n",
      "dense_11 (Dense)             (None, 128)               1605760   \n",
      "_________________________________________________________________\n",
      "dense_12 (Dense)             (None, 2)                 258       \n",
      "=================================================================\n",
      "Total params: 1,625,410\n",
      "Trainable params: 1,625,410\n",
      "Non-trainable params: 0\n",
      "_________________________________________________________________\n",
      "None\n"
     ]
    }
   ],
   "source": [
    "visible = Input(shape=(64,64,3))\n",
    "\n",
    "conv1 = Conv2D(32, kernel_size=3, activation='relu')(visible)\n",
    "pool1 = MaxPooling2D(pool_size=(2, 2))(conv1)\n",
    "\n",
    "conv2 = Conv2D(64, kernel_size=3, activation='relu')(pool1)\n",
    "pool2 = MaxPooling2D(pool_size=(2, 2))(conv2)\n",
    "\n",
    "drop = Dropout(0.20)(pool2)\n",
    "flat = Flatten()(drop)\n",
    "hidden1 = Dense(128, activation='relu')(flat)\n",
    "output = Dense(2, activation='sigmoid')(hidden1)\n",
    "model=Sequential()\n",
    "model = Model(inputs=visible, outputs=output)\n",
    "print(model.summary())"
   ]
  },
  {
   "cell_type": "code",
   "execution_count": 86,
   "metadata": {},
   "outputs": [],
   "source": [
    "model.compile(loss='binary_crossentropy',\n",
    "              optimizer='adam',\n",
    "              metrics=['accuracy'])"
   ]
  },
  {
   "cell_type": "code",
   "execution_count": 87,
   "metadata": {},
   "outputs": [
    {
     "name": "stdout",
     "output_type": "stream",
     "text": [
      "Train on 9493 samples, validate on 475 samples\n",
      "Epoch 1/30\n",
      "9493/9493 [==============================] - 47s 5ms/step - loss: 0.5490 - acc: 0.7043 - val_loss: 0.3465 - val_acc: 0.8716\n",
      "Epoch 2/30\n",
      "9493/9493 [==============================] - 49s 5ms/step - loss: 0.2652 - acc: 0.8822 - val_loss: 0.1766 - val_acc: 0.9232\n",
      "Epoch 3/30\n",
      "9493/9493 [==============================] - 51s 5ms/step - loss: 0.1484 - acc: 0.9365 - val_loss: 0.0689 - val_acc: 0.9716\n",
      "Epoch 4/30\n",
      "9493/9493 [==============================] - 53s 6ms/step - loss: 0.0943 - acc: 0.9595 - val_loss: 0.0376 - val_acc: 0.9905\n",
      "Epoch 5/30\n",
      "9493/9493 [==============================] - 54s 6ms/step - loss: 0.0688 - acc: 0.9739 - val_loss: 0.0445 - val_acc: 0.9821\n",
      "Epoch 6/30\n",
      "9493/9493 [==============================] - 56s 6ms/step - loss: 0.0485 - acc: 0.9827 - val_loss: 0.0245 - val_acc: 0.9937\n",
      "Epoch 7/30\n",
      "9493/9493 [==============================] - 58s 6ms/step - loss: 0.0342 - acc: 0.9879 - val_loss: 0.0111 - val_acc: 0.9979\n",
      "Epoch 8/30\n",
      "9493/9493 [==============================] - 60s 6ms/step - loss: 0.0296 - acc: 0.9900 - val_loss: 0.0141 - val_acc: 0.9947\n",
      "Epoch 9/30\n",
      "9493/9493 [==============================] - 59s 6ms/step - loss: 0.0205 - acc: 0.9929 - val_loss: 0.0180 - val_acc: 0.9968\n",
      "Epoch 10/30\n",
      "9493/9493 [==============================] - 57s 6ms/step - loss: 0.0299 - acc: 0.9898 - val_loss: 0.0064 - val_acc: 1.0000\n",
      "Epoch 11/30\n",
      "9493/9493 [==============================] - 56s 6ms/step - loss: 0.0152 - acc: 0.9954 - val_loss: 0.0054 - val_acc: 0.9989\n",
      "Epoch 12/30\n",
      "9493/9493 [==============================] - 55s 6ms/step - loss: 0.0202 - acc: 0.9929 - val_loss: 0.0028 - val_acc: 1.0000\n",
      "Epoch 13/30\n",
      "9493/9493 [==============================] - 56s 6ms/step - loss: 0.0134 - acc: 0.9954 - val_loss: 0.0025 - val_acc: 1.0000\n",
      "Epoch 14/30\n",
      "9493/9493 [==============================] - 56s 6ms/step - loss: 0.0140 - acc: 0.9946 - val_loss: 0.0029 - val_acc: 1.0000\n",
      "Epoch 15/30\n",
      "9493/9493 [==============================] - 59s 6ms/step - loss: 0.0253 - acc: 0.9895 - val_loss: 0.0035 - val_acc: 1.0000\n",
      "Epoch 16/30\n",
      "9493/9493 [==============================] - 59s 6ms/step - loss: 0.0149 - acc: 0.9957 - val_loss: 0.0054 - val_acc: 0.9989\n",
      "Epoch 17/30\n",
      "9493/9493 [==============================] - 61s 6ms/step - loss: 0.0108 - acc: 0.9967 - val_loss: 0.0040 - val_acc: 1.0000\n",
      "Epoch 18/30\n",
      "9493/9493 [==============================] - 57s 6ms/step - loss: 0.0024 - acc: 0.9998 - val_loss: 6.3565e-04 - val_acc: 1.0000\n",
      "Epoch 19/30\n",
      "9493/9493 [==============================] - 57s 6ms/step - loss: 0.0054 - acc: 0.9982 - val_loss: 0.0190 - val_acc: 0.9937\n",
      "Epoch 20/30\n",
      "9493/9493 [==============================] - 57s 6ms/step - loss: 0.0218 - acc: 0.9922 - val_loss: 0.0011 - val_acc: 1.0000\n",
      "Epoch 21/30\n",
      "9493/9493 [==============================] - 55s 6ms/step - loss: 0.0138 - acc: 0.9946 - val_loss: 0.0080 - val_acc: 0.9979\n",
      "Epoch 22/30\n",
      "9493/9493 [==============================] - 56s 6ms/step - loss: 0.0101 - acc: 0.9960 - val_loss: 9.2697e-04 - val_acc: 1.0000\n",
      "Epoch 23/30\n",
      "9493/9493 [==============================] - 58s 6ms/step - loss: 0.0030 - acc: 0.9991 - val_loss: 0.0068 - val_acc: 0.9968\n",
      "Epoch 24/30\n",
      "9493/9493 [==============================] - 55s 6ms/step - loss: 0.0054 - acc: 0.9983 - val_loss: 3.2828e-04 - val_acc: 1.0000\n",
      "Epoch 25/30\n",
      "9493/9493 [==============================] - 56s 6ms/step - loss: 0.0098 - acc: 0.9962 - val_loss: 0.0030 - val_acc: 0.9979\n",
      "Epoch 26/30\n",
      "9493/9493 [==============================] - 58s 6ms/step - loss: 0.0046 - acc: 0.9984 - val_loss: 1.1233e-04 - val_acc: 1.0000\n",
      "Epoch 27/30\n",
      "9493/9493 [==============================] - 56s 6ms/step - loss: 0.0011 - acc: 0.9999 - val_loss: 2.2469e-04 - val_acc: 1.0000\n",
      "Epoch 28/30\n",
      "9493/9493 [==============================] - 56s 6ms/step - loss: 0.0230 - acc: 0.9927 - val_loss: 0.0025 - val_acc: 0.9989\n",
      "Epoch 29/30\n",
      "9493/9493 [==============================] - 57s 6ms/step - loss: 0.0018 - acc: 0.9995 - val_loss: 0.0068 - val_acc: 0.9979\n",
      "Epoch 30/30\n",
      "9493/9493 [==============================] - 58s 6ms/step - loss: 0.0033 - acc: 0.9988 - val_loss: 8.7917e-04 - val_acc: 1.0000\n"
     ]
    }
   ],
   "source": [
    "graph_viz = model.fit(\n",
    "        training_X,\n",
    "        training_Y,\n",
    "        epochs = 30,\n",
    "        batch_size = 32,\n",
    "        validation_data=(val_X,val_Y)    \n",
    "        )"
   ]
  },
  {
   "cell_type": "code",
   "execution_count": 88,
   "metadata": {},
   "outputs": [
    {
     "data": {
      "image/png": "[encoded data removed]",
      "text/plain": [
       "<Figure size 432x288 with 1 Axes>"
      ]
     },
     "metadata": {
      "needs_background": "light"
     },
     "output_type": "display_data"
    }
   ],
   "source": [
    "plt.plot(graph_viz.history['acc'])\n",
    "plt.plot(graph_viz.history['val_acc'])\n",
    "plt.title('Model accuracy')\n",
    "plt.ylabel('Accuracy')\n",
    "plt.xlabel('Epoch')\n",
    "plt.legend(['Train', 'Test'], loc='upper left')\n",
    "plt.show()"
   ]
  },
  {
   "cell_type": "code",
   "execution_count": 89,
   "metadata": {},
   "outputs": [
    {
     "data": {
      "image/png": "[encoded data removed]",
      "text/plain": [
       "<Figure size 432x288 with 1 Axes>"
      ]
     },
     "metadata": {
      "needs_background": "light"
     },
     "output_type": "display_data"
    }
   ],
   "source": [
    "plt.plot(graph_viz.history['loss'])\n",
    "plt.plot(graph_viz.history['val_loss'])\n",
    "plt.title('Model loss')\n",
    "plt.ylabel('Loss')\n",
    "plt.xlabel('Epoch')\n",
    "plt.legend(['Train', 'Test'], loc='upper left')\n",
    "plt.show()"
   ]
  },
  {
   "cell_type": "code",
   "execution_count": 90,
   "metadata": {},
   "outputs": [
    {
     "name": "stdout",
     "output_type": "stream",
     "text": [
      "0.985781990521327\n"
     ]
    }
   ],
   "source": [
    "# make predictions on the test set\n",
    "preds = model.predict(test_X)\n",
    "from sklearn.metrics import accuracy_score\n",
    "\n",
    "print(accuracy_score(test_Y.argmax(axis=1), preds.argmax(axis=1)))"
   ]
  },
  {
   "cell_type": "code",
   "execution_count": 91,
   "metadata": {},
   "outputs": [
    {
     "name": "stdout",
     "output_type": "stream",
     "text": [
      "              precision    recall  f1-score   support\n",
      "\n",
      "           0       0.98      0.99      0.99       627\n",
      "           1       0.99      0.97      0.98       428\n",
      "\n",
      "   micro avg       0.99      0.99      0.99      1055\n",
      "   macro avg       0.99      0.98      0.99      1055\n",
      "weighted avg       0.99      0.99      0.99      1055\n",
      "\n"
     ]
    }
   ],
   "source": [
    "from sklearn.metrics import classification_report\n",
    "print(classification_report(test_Y.argmax(axis=1), preds.argmax(axis=1)))"
   ]
  },
  {
   "cell_type": "code",
   "execution_count": 92,
   "metadata": {},
   "outputs": [],
   "source": [
    "from sklearn.metrics import confusion_matrix\n",
    "def plot_confusion_matrix(y_true, y_pred, classes,\n",
    "                          normalize=False,\n",
    "                          title=None,\n",
    "                          cmap=plt.cm.Blues):\n",
    "    from sklearn.metrics import confusion_matrix\n",
    "    from sklearn.utils.multiclass import unique_labels\n",
    "    \"\"\"\n",
    "    This function prints and plots the confusion matrix.\n",
    "    Normalization can be applied by setting `normalize=True`.\n",
    "    \"\"\"\n",
    "    if not title:\n",
    "        if normalize:\n",
    "            title = 'Normalized confusion matrix'\n",
    "        else:\n",
    "            title = 'Confusion matrix, without normalization'\n",
    "\n",
    "    # Compute confusion matrix\n",
    "    cm = confusion_matrix(y_true, y_pred)\n",
    "    # Only use the labels that appear in the data\n",
    "    classes = classes[unique_labels(y_true, y_pred)]\n",
    "    if normalize:\n",
    "        cm = cm.astype('float') / cm.sum(axis=1)[:, np.newaxis]\n",
    "        print(\"Normalized confusion matrix\")\n",
    "    else:\n",
    "        print('Confusion matrix, without normalization')\n",
    "\n",
    "    print(cm)\n",
    "    \n",
    "    fig, ax = plt.subplots()\n",
    "    im = ax.imshow(cm, interpolation='nearest', cmap=cmap)\n",
    "    ax.figure.colorbar(im, ax=ax)\n",
    "    # We want to show all ticks...\n",
    "    ax.set(xticks=np.arange(cm.shape[1]),\n",
    "           yticks=np.arange(cm.shape[0]),\n",
    "           # ... and label them with the respective list entries\n",
    "           xticklabels=classes, yticklabels=classes,\n",
    "           title=title,\n",
    "           ylabel='True label',\n",
    "           xlabel='Predicted label')\n",
    "\n",
    "    # Rotate the tick labels and set their alignment.\n",
    "    plt.setp(ax.get_xticklabels(), rotation=45, ha=\"right\",\n",
    "             rotation_mode=\"anchor\")\n",
    "\n",
    "    # Loop over data dimensions and create text annotations.\n",
    "    fmt = '.2f' if normalize else 'd'\n",
    "    thresh = cm.max() / 2.\n",
    "    for i in range(cm.shape[0]):\n",
    "        for j in range(cm.shape[1]):\n",
    "            ax.text(j, i, format(cm[i, j], fmt),\n",
    "                    ha=\"center\", va=\"center\",\n",
    "                    color=\"white\" if cm[i, j] > thresh else \"black\")\n",
    "    fig.tight_layout()\n",
    "    return ax\n"
   ]
  },
  {
   "cell_type": "code",
   "execution_count": 93,
   "metadata": {},
   "outputs": [
    {
     "name": "stdout",
     "output_type": "stream",
     "text": [
      "Confusion matrix, without normalization\n",
      "[[623   4]\n",
      " [ 11 417]]\n"
     ]
    },
    {
     "data": {
      "text/plain": [
       "<matplotlib.axes._subplots.AxesSubplot at 0x208b77379e8>"
      ]
     },
     "execution_count": 93,
     "metadata": {},
     "output_type": "execute_result"
    },
    {
     "data": {
      "image/png": "[encoded data removed]",
      "text/plain": [
       "<Figure size 432x288 with 2 Axes>"
      ]
     },
     "metadata": {
      "needs_background": "light"
     },
     "output_type": "display_data"
    }
   ],
   "source": [
    "class_names=np.array((0,1))\n",
    "plot_confusion_matrix(test_Y.argmax(axis=1), preds.argmax(axis=1), classes=class_names, title='Confusion Matrix')"
   ]
  },
  {
   "cell_type": "code",
   "execution_count": 94,
   "metadata": {},
   "outputs": [
    {
     "name": "stdout",
     "output_type": "stream",
     "text": [
      "1055/1055 [==============================] - 2s 1ms/step\n",
      "0.041131665817129764\n",
      "0.9867298578199052\n"
     ]
    }
   ],
   "source": [
    "test_loss,test_acc = model.evaluate(test_X,test_Y)\n",
    "print(test_loss)\n",
    "print(test_acc)"
   ]
  },
  {
   "cell_type": "code",
   "execution_count": null,
   "metadata": {},
   "outputs": [],
   "source": []
  }
 ],
 "metadata": {
  "kernelspec": {
   "display_name": "Python 3.6 (tensorflow)",
   "language": "python",
   "name": "tensorflow"
  },
  "language_info": {
   "codemirror_mode": {
    "name": "ipython",
    "version": 3
   },
   "file_extension": ".py",
   "mimetype": "text/x-python",
   "name": "python",
   "nbconvert_exporter": "python",
   "pygments_lexer": "ipython3",
   "version": "3.6.8"
  }
 },
 "nbformat": 4,
 "nbformat_minor": 2
}
